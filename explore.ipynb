{
 "cells": [
  {
   "cell_type": "code",
   "execution_count": 1,
   "metadata": {
    "collapsed": true
   },
   "outputs": [],
   "source": [
    "%load_ext autoreload\n",
    "%autoreload 2\n",
    "from pathlib import Path\n",
    "from struct import unpack"
   ]
  },
  {
   "cell_type": "code",
   "execution_count": 2,
   "metadata": {},
   "outputs": [
    {
     "name": "stdout",
     "output_type": "stream",
     "text": [
      "1987 images found.\n"
     ]
    }
   ],
   "source": [
    "root = Path(\"./data/0524/\")\n",
    "timestamps = list({int(p.stem) for p in root.iterdir()})\n",
    "print(\"{} images found.\".format(len(timestamps)))"
   ]
  },
  {
   "cell_type": "code",
   "execution_count": 3,
   "metadata": {
    "collapsed": true
   },
   "outputs": [],
   "source": [
    "def read_param(timestamp):\n",
    "    file_path = root / \"{}.bin\".format(timestamp)\n",
    "    with file_path.open('rb') as f:\n",
    "        unpack('f'*12, f.read())"
   ]
  },
  {
   "cell_type": "code",
   "execution_count": 4,
   "metadata": {
    "collapsed": true,
    "scrolled": true
   },
   "outputs": [],
   "source": [
    "read_param(timestamps[0])"
   ]
  },
  {
   "cell_type": "code",
   "execution_count": 5,
   "metadata": {},
   "outputs": [
    {
     "name": "stderr",
     "output_type": "stream",
     "text": [
      "Using TensorFlow backend.\n"
     ]
    },
    {
     "name": "stdout",
     "output_type": "stream",
     "text": [
      "32\n"
     ]
    }
   ],
   "source": [
    "from crossing_guide import CrossingGuide\n",
    "import tensorflow as tf\n",
    "\n",
    "tf.reset_default_graph()\n",
    "guide = CrossingGuide(batch_size=32)"
   ]
  },
  {
   "cell_type": "code",
   "execution_count": 7,
   "metadata": {},
   "outputs": [
    {
     "name": "stdout",
     "output_type": "stream",
     "text": [
      "Epoch 1/4\n",
      "32/31 [==============================] - 454s - loss: 0.0774 - val_loss: 0.0668\n",
      "Epoch 2/4\n",
      "32/31 [==============================] - 533s - loss: 0.0680 - val_loss: 0.0658\n",
      "Epoch 3/4\n",
      "32/31 [==============================] - 549s - loss: 0.0640 - val_loss: 0.0613\n",
      "Epoch 4/4\n",
      "32/31 [==============================] - 475s - loss: 0.0614 - val_loss: 0.0578\n"
     ]
    }
   ],
   "source": [
    "guide.train(4)"
   ]
  }
 ],
 "metadata": {
  "kernelspec": {
   "display_name": "Python 3",
   "language": "python",
   "name": "python3"
  },
  "language_info": {
   "codemirror_mode": {
    "name": "ipython",
    "version": 3
   },
   "file_extension": ".py",
   "mimetype": "text/x-python",
   "name": "python",
   "nbconvert_exporter": "python",
   "pygments_lexer": "ipython3",
   "version": "3.5.3"
  }
 },
 "nbformat": 4,
 "nbformat_minor": 2
}
